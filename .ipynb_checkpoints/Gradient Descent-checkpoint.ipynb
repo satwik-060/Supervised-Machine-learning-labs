{
 "cells": [
  {
   "cell_type": "code",
   "execution_count": 63,
   "id": "cf42f19f",
   "metadata": {},
   "outputs": [],
   "source": [
    "import numpy as np\n",
    "import matplotlib.pyplot as plt"
   ]
  },
  {
   "cell_type": "code",
   "execution_count": 69,
   "id": "faebf168",
   "metadata": {},
   "outputs": [],
   "source": [
    "x_train = np.array([1.0,2.0])\n",
    "y_train = np.array([300.0,500.0])"
   ]
  },
  {
   "cell_type": "code",
   "execution_count": 81,
   "id": "5bac117b",
   "metadata": {},
   "outputs": [],
   "source": [
    "def compute_cost(x,y,w,b):\n",
    "    m = x.shape[0]\n",
    "    cost = 0\n",
    "    for i in range(m):\n",
    "        f_wb = w * x[i] + b\n",
    "        cost += (f_wb - y[i])**2\n",
    "    cost = cost / (2 * m)\n",
    "    return cost"
   ]
  },
  {
   "cell_type": "code",
   "execution_count": 86,
   "id": "0da8e224",
   "metadata": {},
   "outputs": [],
   "source": [
    "def compute_gradient(x,y,w,b):\n",
    "    m = x.shape[0]\n",
    "    dj_dw = 0\n",
    "    dj_db = 0\n",
    "    for i in range(m):\n",
    "        f_wb = w * x[i] + b\n",
    "        dj_dw += (f_wb - y[i])*x[i]\n",
    "        dj_db += (f_wb - y[i])\n",
    "    dj_dw = dj_dw / m\n",
    "    dj_db = dj_db / m\n",
    "    return dj_dw , dj_db\n"
   ]
  },
  {
   "cell_type": "code",
   "execution_count": 91,
   "id": "6964ec07",
   "metadata": {},
   "outputs": [],
   "source": [
    "def gradient_descent(x,y,w_in,b_in,alpha,iters,cost_function,gradient_function):\n",
    "    w = w_in\n",
    "    b = b_in\n",
    "    for i in range(iters):\n",
    "        dj_dw , dj_db = gradient_function(x,y,w,b)\n",
    "        w = w - (alpha * dj_dw)\n",
    "        b = b - (alpha * dj_db)\n",
    "        \n",
    "    return w , b"
   ]
  },
  {
   "cell_type": "code",
   "execution_count": 95,
   "id": "ff6e142b",
   "metadata": {},
   "outputs": [
    {
     "name": "stdout",
     "output_type": "stream",
     "text": [
      "199.99285075131766 100.011567727362\n"
     ]
    }
   ],
   "source": [
    "w_init = 0\n",
    "b_init = 0 \n",
    "iterations = 10000\n",
    "tmp_alpha = 1.0e-2\n",
    "w_final , b_final = gradient_descent(x_train,y_train,w_init,b_init,tmp_alpha,iterations,compute_cost,compute_gradient)\n",
    "print(w_final,b_final)"
   ]
  },
  {
   "cell_type": "code",
   "execution_count": null,
   "id": "fdcf4ef2",
   "metadata": {},
   "outputs": [],
   "source": []
  },
  {
   "cell_type": "code",
   "execution_count": null,
   "id": "86e15000",
   "metadata": {},
   "outputs": [],
   "source": []
  },
  {
   "cell_type": "code",
   "execution_count": null,
   "id": "0e0aa712",
   "metadata": {},
   "outputs": [],
   "source": []
  },
  {
   "cell_type": "code",
   "execution_count": null,
   "id": "3b846070",
   "metadata": {},
   "outputs": [],
   "source": []
  }
 ],
 "metadata": {
  "kernelspec": {
   "display_name": "Python 3 (ipykernel)",
   "language": "python",
   "name": "python3"
  },
  "language_info": {
   "codemirror_mode": {
    "name": "ipython",
    "version": 3
   },
   "file_extension": ".py",
   "mimetype": "text/x-python",
   "name": "python",
   "nbconvert_exporter": "python",
   "pygments_lexer": "ipython3",
   "version": "3.9.12"
  }
 },
 "nbformat": 4,
 "nbformat_minor": 5
}
