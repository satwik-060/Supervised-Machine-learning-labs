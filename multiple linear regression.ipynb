{
 "cells": [
  {
   "cell_type": "code",
   "execution_count": 2,
   "id": "8b376284",
   "metadata": {},
   "outputs": [],
   "source": [
    "import numpy as np\n",
    "import matplotlib"
   ]
  },
  {
   "cell_type": "code",
   "execution_count": 3,
   "id": "13e7c630",
   "metadata": {},
   "outputs": [],
   "source": [
    "x_train = np.array([[2104,5,1,45],[1416,3,2,40],[852,2,1,35]])\n",
    "y_train = np.array([460,232,178])"
   ]
  },
  {
   "cell_type": "code",
   "execution_count": 4,
   "id": "7c18f08e",
   "metadata": {},
   "outputs": [],
   "source": [
    "b_init = 785.1811367994083\n",
    "w_init = np.array([ 0.39133535, 18.75376741, -53.36032453, -26.42131618])"
   ]
  },
  {
   "cell_type": "code",
   "execution_count": 6,
   "id": "4dcf8214",
   "metadata": {},
   "outputs": [
    {
     "name": "stdout",
     "output_type": "stream",
     "text": [
      "(3, 4) (4,)\n"
     ]
    }
   ],
   "source": [
    "print(x_train.shape , w_init.shape)"
   ]
  },
  {
   "cell_type": "code",
   "execution_count": 10,
   "id": "6d84a653",
   "metadata": {},
   "outputs": [],
   "source": [
    "def predict_single_loop(w,x,b):\n",
    "    n = x.shape[0]\n",
    "    p = 0\n",
    "    for i in range(n):\n",
    "        p_i = x[i] * w[i]  \n",
    "        p = p + p_i         \n",
    "    p = p + b                \n",
    "    return p"
   ]
  },
  {
   "cell_type": "code",
   "execution_count": 12,
   "id": "7f203178",
   "metadata": {},
   "outputs": [
    {
     "name": "stdout",
     "output_type": "stream",
     "text": [
      "459.9999976194083\n"
     ]
    }
   ],
   "source": [
    "x_vec = x_train[0,:]\n",
    "prediction_looop = predict_single_loop(w_init,x_vec,b_init)\n",
    "print(prediction_looop)"
   ]
  },
  {
   "cell_type": "code",
   "execution_count": 13,
   "id": "af1045cd",
   "metadata": {},
   "outputs": [],
   "source": [
    "def predict_dot(w,x,b):\n",
    "    p = np.dot(w,x)+b\n",
    "    return p"
   ]
  },
  {
   "cell_type": "code",
   "execution_count": 14,
   "id": "3987db99",
   "metadata": {},
   "outputs": [
    {
     "name": "stdout",
     "output_type": "stream",
     "text": [
      "459.9999976194082\n"
     ]
    }
   ],
   "source": [
    "x_vec = x_train[0,:]\n",
    "prediction_dot = predict_dot(w_init,x_vec,b_init)\n",
    "print(prediction_dot)"
   ]
  },
  {
   "cell_type": "code",
   "execution_count": 15,
   "id": "a4b3eff6",
   "metadata": {},
   "outputs": [],
   "source": [
    "def compute_cost(x,y,w,b):\n",
    "    m = x.shape[0]\n",
    "    cost = 0.0\n",
    "    for i in range(m):\n",
    "        f_wb_i = np.dot(x[i],w) + b\n",
    "        cost = cost + (f_wb_i - y[i])**2\n",
    "    cost = cost / (2*m)\n",
    "    return cost"
   ]
  },
  {
   "cell_type": "code",
   "execution_count": 16,
   "id": "06cd7fb4",
   "metadata": {},
   "outputs": [
    {
     "name": "stdout",
     "output_type": "stream",
     "text": [
      "1.5578904330213735e-12\n"
     ]
    }
   ],
   "source": [
    "cost = compute_cost(x_train,y_train,w_init,b_init)\n",
    "print(cost)"
   ]
  },
  {
   "cell_type": "code",
   "execution_count": 25,
   "id": "d435cdf9",
   "metadata": {},
   "outputs": [],
   "source": [
    "def compute_gradient(x,y,w,b):\n",
    "    m,n = x.shape\n",
    "    dj_dw = np.zeros((n,))\n",
    "    dj_db = 0.\n",
    "    for i in range (m):\n",
    "        f_wb_i = np.dot(w,x[i]) + b\n",
    "        for j in range(n):\n",
    "            dj_dw[j] = dj_dw[j] + (((f_wb_i) - y[i])*x[i,j])\n",
    "        dj_db = dj_db + ((f_wb_i) - y[i])\n",
    "    dj_dw = dj_dw/m\n",
    "    dj_db = dj_db/m\n",
    "    return dj_dw , dj_db\n",
    "        "
   ]
  },
  {
   "cell_type": "code",
   "execution_count": 30,
   "id": "6b0371ff",
   "metadata": {},
   "outputs": [
    {
     "name": "stdout",
     "output_type": "stream",
     "text": [
      "[-2.72623577e-03 -6.27197263e-06 -2.21745571e-06 -6.92403379e-05]\n",
      "-1.6739251122999121e-06\n"
     ]
    }
   ],
   "source": [
    "tmp_dj_dw , tmp_dj_db = compute_gradient(x_train,y_train,w_init,b_init)\n",
    "print(tmp_dj_dw)\n",
    "print(tmp_dj_db)"
   ]
  },
  {
   "cell_type": "code",
   "execution_count": 36,
   "id": "57f2e79d",
   "metadata": {},
   "outputs": [],
   "source": [
    "def gradient_descent(x,y,w_in,b_in,gradient_function,alpha,num_iters,cost_function):\n",
    "    w= w_in\n",
    "    b = b_in\n",
    "    for i in range(num_iters):\n",
    "        dj_dw , dj_db = gradient_function(x,y,w_in,b_in)\n",
    "        w = w - alpha * dj_dw\n",
    "        b = b - alpha * dj_db\n",
    "    return w , b"
   ]
  },
  {
   "cell_type": "code",
   "execution_count": 39,
   "id": "3a0ec886",
   "metadata": {},
   "outputs": [
    {
     "name": "stdout",
     "output_type": "stream",
     "text": [
      "b,w found by gradient descent: 0.15,[2.41334667e+02 5.58666667e-01 1.83666667e-01 6.03500000e+00] \n"
     ]
    }
   ],
   "source": [
    "w_initial = np.zeros_like(w_init)\n",
    "b_initial = 0.\n",
    "iterations = 1000\n",
    "alpha = 5.0e-7\n",
    "w_final , b_final = gradient_descent(x_train,y_train,w_initial,b_initial,compute_gradient,alpha,iterations,compute_cost)\n",
    "print(f\"b,w found by gradient descent: {b_final:0.2f},{w_final} \")"
   ]
  },
  {
   "cell_type": "code",
   "execution_count": null,
   "id": "32c2c135",
   "metadata": {},
   "outputs": [],
   "source": []
  }
 ],
 "metadata": {
  "kernelspec": {
   "display_name": "Python 3 (ipykernel)",
   "language": "python",
   "name": "python3"
  },
  "language_info": {
   "codemirror_mode": {
    "name": "ipython",
    "version": 3
   },
   "file_extension": ".py",
   "mimetype": "text/x-python",
   "name": "python",
   "nbconvert_exporter": "python",
   "pygments_lexer": "ipython3",
   "version": "3.9.12"
  }
 },
 "nbformat": 4,
 "nbformat_minor": 5
}
