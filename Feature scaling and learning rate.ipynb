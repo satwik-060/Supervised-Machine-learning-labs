{
 "cells": [
  {
   "cell_type": "code",
   "execution_count": 3,
   "id": "19222e2f",
   "metadata": {},
   "outputs": [],
   "source": [
    "import numpy as np\n",
    "import matplotlib.pyplot as plt\n"
   ]
  },
  {
   "cell_type": "code",
   "execution_count": 4,
   "id": "0c05ead6",
   "metadata": {},
   "outputs": [],
   "source": [
    "x_train = np.array([[952,2,1,65],[1244,3,2,64],[1947,3,2,17]])\n",
    "y_train = np.array([271.5,232,509.8])\n",
    "x_features = ['size(sqft)','bedrooms','floors','age']"
   ]
  },
  {
   "cell_type": "code",
   "execution_count": 5,
   "id": "13498ce9",
   "metadata": {},
   "outputs": [],
   "source": [
    "def compute_gradient(x,y,w,b):\n",
    "    m,n = x.shape\n",
    "    dj_dw = np.zeros((n,))\n",
    "    dj_db = 0.\n",
    "    for i in range (m):\n",
    "        err = (np.dot(w,x[i]) + b) - y[i]\n",
    "        for j in range (n):\n",
    "            dj_dw[j] = dj_dw[j] +  (err*x[i,j])\n",
    "        dj_db = dj_db + err\n",
    "    dj_dw = dj_dw/ m\n",
    "    dj_db = dj_db/m\n",
    "    return dj_dw , dj_db"
   ]
  },
  {
   "cell_type": "code",
   "execution_count": 6,
   "id": "f86b5d53",
   "metadata": {},
   "outputs": [],
   "source": [
    "def gradient_descent(x,y,w_in,b_in,gradient_function,alpha,num_iters):\n",
    "    w = w_in\n",
    "    b = b_in\n",
    "    for i in range(num_iters):\n",
    "        dj_dw , dj_db = gradient_function(x,y,w,b)\n",
    "        w = w - alpha * dj_dw\n",
    "        b = b - alpha * dj_db\n",
    "    return w , b"
   ]
  },
  {
   "cell_type": "code",
   "execution_count": 7,
   "id": "ae1c66c7",
   "metadata": {},
   "outputs": [],
   "source": [
    "b_init = 785.1811367994083\n",
    "w_init = np.array([ 0.39133535, 18.75376741, -53.36032453, -26.42131618])"
   ]
  },
  {
   "cell_type": "code",
   "execution_count": 8,
   "id": "b3226f3d",
   "metadata": {},
   "outputs": [],
   "source": [
    "alpha = 1e-7\n",
    "w_final , b_final = gradient_descent(x_train,y_train,w_init,b_init,compute_gradient,alpha,10)"
   ]
  },
  {
   "cell_type": "code",
   "execution_count": 9,
   "id": "2401c7f0",
   "metadata": {},
   "outputs": [
    {
     "name": "stdout",
     "output_type": "stream",
     "text": [
      "[  0.48230089  18.75427557 -53.36007373 -26.39441034] 785.1813941620888\n"
     ]
    }
   ],
   "source": [
    "print(w_final , b_final)"
   ]
  },
  {
   "cell_type": "code",
   "execution_count": 10,
   "id": "42ba6439",
   "metadata": {},
   "outputs": [],
   "source": [
    "def zscore_normalized_features(X):\n",
    "    mu = np.mean(X,axis = 0)\n",
    "    sigma = np.std(X,axis  = 0)\n",
    "    x_norm = (X - mu)/sigma\n",
    "    return mu,sigma,x_norm"
   ]
  },
  {
   "cell_type": "code",
   "execution_count": 11,
   "id": "4d471d8b",
   "metadata": {},
   "outputs": [
    {
     "name": "stdout",
     "output_type": "stream",
     "text": [
      "[1381.            2.66666667    1.66666667   48.66666667] [417.59869093   0.47140452   0.47140452  22.39543604] [[-1.02730207 -1.41421356 -1.41421356  0.72931526]\n",
      " [-0.32806616  0.70710678  0.70710678  0.68466331]\n",
      " [ 1.35536823  0.70710678  0.70710678 -1.41397857]]\n"
     ]
    }
   ],
   "source": [
    "x_mu , x_sigma,x_norm = zscore_normalized_features(x_train)\n",
    "print(x_mu , x_sigma,x_norm)"
   ]
  },
  {
   "cell_type": "code",
   "execution_count": 18,
   "id": "35d2c3fe",
   "metadata": {},
   "outputs": [],
   "source": [
    "alpha = 1e-7\n",
    "w_norm , b_norm = gradient_descent(x_norm,y_train,w_init,b_init,compute_gradient,alpha,10)"
   ]
  },
  {
   "cell_type": "code",
   "execution_count": 19,
   "id": "746e670d",
   "metadata": {},
   "outputs": [
    {
     "name": "stdout",
     "output_type": "stream",
     "text": [
      "[  0.39144662  18.75383496 -53.36025698 -26.42142856] 785.1806893851394\n"
     ]
    }
   ],
   "source": [
    "print(w_final , b_final)"
   ]
  },
  {
   "cell_type": "code",
   "execution_count": 21,
   "id": "04ab8ba3",
   "metadata": {},
   "outputs": [
    {
     "name": "stdout",
     "output_type": "stream",
     "text": [
      "[-0.43343048  0.70710678 -1.41421356 -0.38698361]\n",
      "883.9594472528117\n"
     ]
    }
   ],
   "source": [
    "x_house = np.array([1200,3,1,40])\n",
    "x_house_norm = (x_house - x_mu)/x_sigma\n",
    "print(x_house_norm)\n",
    "x_house_predict = np.dot(x_house_norm,w_norm) + b_norm\n",
    "print(x_house_predict)"
   ]
  },
  {
   "cell_type": "code",
   "execution_count": null,
   "id": "0797e9b2",
   "metadata": {},
   "outputs": [],
   "source": []
  },
  {
   "cell_type": "code",
   "execution_count": null,
   "id": "882e8a54",
   "metadata": {},
   "outputs": [],
   "source": []
  }
 ],
 "metadata": {
  "kernelspec": {
   "display_name": "Python 3 (ipykernel)",
   "language": "python",
   "name": "python3"
  },
  "language_info": {
   "codemirror_mode": {
    "name": "ipython",
    "version": 3
   },
   "file_extension": ".py",
   "mimetype": "text/x-python",
   "name": "python",
   "nbconvert_exporter": "python",
   "pygments_lexer": "ipython3",
   "version": "3.9.12"
  }
 },
 "nbformat": 4,
 "nbformat_minor": 5
}
