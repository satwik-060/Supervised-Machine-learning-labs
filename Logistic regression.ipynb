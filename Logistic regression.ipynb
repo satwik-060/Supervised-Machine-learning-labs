{
 "cells": [
  {
   "cell_type": "code",
   "execution_count": 3,
   "id": "7e0edc8b",
   "metadata": {},
   "outputs": [],
   "source": [
    "import numpy as np\n",
    "input_array = np.array([1,2,3,4])\n",
    "exp_array = np.exp(input_array)"
   ]
  },
  {
   "cell_type": "code",
   "execution_count": 4,
   "id": "b0a78453",
   "metadata": {},
   "outputs": [
    {
     "name": "stdout",
     "output_type": "stream",
     "text": [
      "[1 2 3 4] [ 2.71828183  7.3890561  20.08553692 54.59815003]\n"
     ]
    }
   ],
   "source": [
    "print(input_array,exp_array)"
   ]
  },
  {
   "cell_type": "code",
   "execution_count": 6,
   "id": "b2a7baa4",
   "metadata": {},
   "outputs": [],
   "source": [
    "def sigmoid(z):\n",
    "    g = 1/(1+np.exp(-1 * (z)))\n",
    "    return g"
   ]
  },
  {
   "cell_type": "code",
   "execution_count": 7,
   "id": "6496f825",
   "metadata": {},
   "outputs": [],
   "source": [
    "x_train = np.array([0,1,2,3,4,5])\n",
    "y_train = np.array([0,0,0,1,1,1])\n",
    "w_in = np.zeros((1))\n",
    "b_in = 0"
   ]
  },
  {
   "cell_type": "code",
   "execution_count": 10,
   "id": "b6ddb360",
   "metadata": {},
   "outputs": [],
   "source": [
    "import matplotlib.pyplot as plt\n",
    "plt.style.use('./deeplearning.mplstyle')"
   ]
  },
  {
   "cell_type": "code",
   "execution_count": 11,
   "id": "02f87960",
   "metadata": {},
   "outputs": [],
   "source": []
  },
  {
   "cell_type": "code",
   "execution_count": null,
   "id": "55decb99",
   "metadata": {},
   "outputs": [],
   "source": []
  }
 ],
 "metadata": {
  "kernelspec": {
   "display_name": "Python 3 (ipykernel)",
   "language": "python",
   "name": "python3"
  },
  "language_info": {
   "codemirror_mode": {
    "name": "ipython",
    "version": 3
   },
   "file_extension": ".py",
   "mimetype": "text/x-python",
   "name": "python",
   "nbconvert_exporter": "python",
   "pygments_lexer": "ipython3",
   "version": "3.9.12"
  }
 },
 "nbformat": 4,
 "nbformat_minor": 5
}
